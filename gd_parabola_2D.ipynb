{
 "cells": [
  {
   "cell_type": "code",
   "execution_count": null,
   "id": "3057d78e",
   "metadata": {},
   "outputs": [
    {
     "data": {
      "application/vnd.jupyter.widget-view+json": {
       "model_id": "4bdbf20ba9fa4565b7f0b42d77cf29e0",
       "version_major": 2,
       "version_minor": 0
      },
      "text/plain": [
       "VBox(children=(Dropdown(description='Optimizer', options=('GD', 'SGD', 'Momentum'), value='GD'), FloatSlider(v…"
      ]
     },
     "metadata": {},
     "output_type": "display_data"
    },
    {
     "data": {
      "application/vnd.jupyter.widget-view+json": {
       "model_id": "5fa5b2cfd3874fa2b3fcde5bf44162f0",
       "version_major": 2,
       "version_minor": 0
      },
      "text/plain": [
       "Output()"
      ]
     },
     "metadata": {},
     "output_type": "display_data"
    }
   ],
   "source": [
    "#%%\n",
    "import numpy as np\n",
    "import matplotlib.pyplot as plt\n",
    "from ipywidgets import interact, Dropdown, FloatSlider, IntSlider\n",
    "from ipywidgets import interactive, VBox, HBox, Output\n",
    "\n",
    "# --- Define the parabola function ---\n",
    "def f(x):\n",
    "    return x**2  # simple convex function\n",
    "\n",
    "def df(x):\n",
    "    return 2*x  # derivative\n",
    "\n",
    "# --- Optimization routine ---\n",
    "def optimize(optimizer=\"GD\", lr=0.1, epochs=20, momentum=0.9):\n",
    "    x = -8 # np.random.uniform(-8, 8)  # random start\n",
    "    v = 0  # momentum buffer\n",
    "    history = [x]\n",
    "\n",
    "    for i in range(epochs):\n",
    "        grad = df(x)\n",
    "\n",
    "        if optimizer == \"GD\":\n",
    "            x = x - lr * grad\n",
    "\n",
    "        elif optimizer == \"SGD\":\n",
    "            # here, it's just the same as GD since we only have one variable,\n",
    "            # but we add a bit of noise to mimic SGD stochasticity\n",
    "            grad = grad + np.random.normal(0, 0.5)\n",
    "            x = x - lr * grad\n",
    "\n",
    "        elif optimizer == \"Momentum\":\n",
    "            v = momentum * v - lr * grad\n",
    "            x = x + v\n",
    "\n",
    "        history.append(x)\n",
    "\n",
    "    return np.array(history)\n",
    "\n",
    "# --- Plotting function ---\n",
    "def train_and_plot(optimizer, lr, epochs, momentum):\n",
    "    xs = np.linspace(-10, 10, 400)\n",
    "    ys = f(xs)\n",
    "\n",
    "    path = optimize(optimizer, lr, epochs, momentum)\n",
    "    path_y = f(path)\n",
    "\n",
    "    plt.figure(figsize=(8,6))\n",
    "    plt.plot(xs, ys, label=\"f(x) = x²\", color=\"blue\", alpha=0.5)\n",
    "    plt.plot(path, path_y, color=\"red\", linestyle=\"--\", alpha=0.7, zorder=3)\n",
    "    plt.scatter(path[:-1], path_y[:-1], s=60, label=\"Steps\", marker=\"o\", facecolors='none', edgecolors='black', zorder=4)\n",
    "    plt.scatter(path[-1], path_y[-1], color=\"red\", s=80, label=\"Final Step\", marker=\"x\", zorder=5)\n",
    "\n",
    "    plt.title(f\"{optimizer}: lr={lr:.2f}, epochs={epochs}, momentum={momentum:.2f}\" if optimizer==\"Momentum\" else f\"{optimizer}: lr={lr:.2f}, epochs={epochs}, momentum=n/a\")\n",
    "    plt.xlabel(\"x\")\n",
    "    plt.ylabel(\"f(x)\")\n",
    "    plt.legend()\n",
    "    plt.grid(True)\n",
    "    plt.show()\n",
    "\n",
    "# --- Widgets ---\n",
    "# Define widgets with default values\n",
    "optimizer_widget = Dropdown(options=[\"GD\", \"SGD\", \"Momentum\"], value=\"GD\", description=\"Optimizer\")\n",
    "\n",
    "# Store defaults for reset\n",
    "defaults = {\n",
    "    \"lr\": 0.05,\n",
    "    \"epochs\": 10,\n",
    "    \"momentum\": 0.75\n",
    "}\n",
    "\n",
    "lr_widget = FloatSlider(value=defaults[\"lr\"], min=0.01, max=1.0, step=0.01, description=\"Learning rate\", readout_format=\".2f\")\n",
    "epochs_widget = IntSlider(value=defaults[\"epochs\"], min=5, max=100, step=5, description=\"Epochs\")\n",
    "momentum_widget = FloatSlider(value=defaults[\"momentum\"], min=0.1, max=0.99, step=0.05, description=\"Momentum\", readout_format=\".2f\")\n",
    "\n",
    "def on_optimizer_change(change):\n",
    "    if change[\"name\"] == \"value\":\n",
    "        lr_widget.value = defaults[\"lr\"]\n",
    "        epochs_widget.value = defaults[\"epochs\"]\n",
    "        momentum_widget.value = defaults[\"momentum\"]\n",
    "\n",
    "optimizer_widget.observe(on_optimizer_change, names=\"value\")\n",
    "\n",
    "ui = VBox([optimizer_widget, lr_widget, epochs_widget, momentum_widget])\n",
    "out = Output()\n",
    "\n",
    "def wrapped_train_and_plot(optimizer, lr, epochs, momentum):\n",
    "    with out:\n",
    "        out.clear_output(wait=True)\n",
    "        train_and_plot(optimizer, lr, epochs, momentum)\n",
    "\n",
    "interactive_plot = interactive(\n",
    "    wrapped_train_and_plot,\n",
    "    optimizer=optimizer_widget,\n",
    "    lr=lr_widget,\n",
    "    epochs=epochs_widget,\n",
    "    momentum=momentum_widget,\n",
    ")\n",
    "\n",
    "display(ui, out)\n"
   ]
  }
 ],
 "metadata": {
  "kernelspec": {
   "display_name": "venv (3.9.6)",
   "language": "python",
   "name": "python3"
  },
  "language_info": {
   "codemirror_mode": {
    "name": "ipython",
    "version": 3
   },
   "file_extension": ".py",
   "mimetype": "text/x-python",
   "name": "python",
   "nbconvert_exporter": "python",
   "pygments_lexer": "ipython3",
   "version": "3.9.6"
  }
 },
 "nbformat": 4,
 "nbformat_minor": 5
}
